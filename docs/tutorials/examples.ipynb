{
 "cells": [
  {
   "cell_type": "markdown",
   "id": "c367cb2f",
   "metadata": {},
   "source": [
    "(examples)=\n",
    "\n",
    "# Use iinuclear"
   ]
  },
  {
   "cell_type": "markdown",
   "id": "fbbfaf9f",
   "metadata": {},
   "source": [
    "This notebook shows how to use `iinuclear`"
   ]
  },
  {
   "cell_type": "code",
   "execution_count": null,
   "id": "9b943261",
   "metadata": {},
   "outputs": [],
   "source": [
    "from iinuclear.utils import *"
   ]
  }
 ],
 "metadata": {
  "kernelspec": {
   "display_name": "Python 3",
   "language": "python",
   "name": "python3"
  },
  "language_info": {
   "codemirror_mode": {
    "name": "ipython",
    "version": 3
   },
   "file_extension": ".py",
   "mimetype": "text/x-python",
   "name": "python",
   "nbconvert_exporter": "python",
   "pygments_lexer": "ipython3",
   "version": "3.9.6"
  }
 },
 "nbformat": 4,
 "nbformat_minor": 5
}
